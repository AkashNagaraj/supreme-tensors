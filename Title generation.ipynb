{
 "cells": [
  {
   "cell_type": "raw",
   "metadata": {},
   "source": [
    "https://github.com/XiaohuiGuoEartha/NLP_Project_Abstractive_Summarization/blob/master/Abstractive_Summarization.ipynb"
   ]
  },
  {
   "cell_type": "code",
   "execution_count": 1,
   "metadata": {},
   "outputs": [
    {
     "name": "stderr",
     "output_type": "stream",
     "text": [
      "Using TensorFlow backend.\n"
     ]
    },
    {
     "name": "stdout",
     "output_type": "stream",
     "text": [
      "2.2.5\n"
     ]
    }
   ],
   "source": [
    "import keras\n",
    "print(keras.__version__)"
   ]
  },
  {
   "cell_type": "code",
   "execution_count": 7,
   "metadata": {},
   "outputs": [
    {
     "name": "stdout",
     "output_type": "stream",
     "text": [
      "[name: \"/device:CPU:0\"\n",
      "device_type: \"CPU\"\n",
      "memory_limit: 268435456\n",
      "locality {\n",
      "}\n",
      "incarnation: 919174770618242913\n",
      ", name: \"/device:XLA_CPU:0\"\n",
      "device_type: \"XLA_CPU\"\n",
      "memory_limit: 17179869184\n",
      "locality {\n",
      "}\n",
      "incarnation: 11779861848474043018\n",
      "physical_device_desc: \"device: XLA_CPU device\"\n",
      "]\n"
     ]
    }
   ],
   "source": [
    "from tensorflow.python.client import device_lib\n",
    "print(device_lib.list_local_devices())"
   ]
  },
  {
   "cell_type": "code",
   "execution_count": 4,
   "metadata": {},
   "outputs": [],
   "source": [
    "#os.environ['CUDA_DEVICES_AVAILABLE']=2"
   ]
  },
  {
   "cell_type": "code",
   "execution_count": 18,
   "metadata": {},
   "outputs": [],
   "source": [
    "from keras.models import Sequential\n",
    "from keras.preprocessing.text import Tokenizer\n",
    "import warnings\n",
    "warnings.filterwarnings('ignore')\n",
    "import operator\n",
    "import numpy as np\n",
    "from keras.utils import to_categorical\n",
    "from keras.preprocessing.sequence import pad_sequences\n",
    "from keras.layers import Embedding, Dense, Dropout, Reshape, RepeatVector, BatchNormalization,TimeDistributed, Lambda, Activation, LSTM, Flatten, Convolution1D, GRU, MaxPooling1D\n",
    "from numpy import argmax\n",
    "from keras.preprocessing.text import text_to_word_sequence\n",
    "from rouge import Rouge\n",
    "from keras.models import model_from_json \n",
    "from keras.callbacks import TensorBoard"
   ]
  },
  {
   "cell_type": "code",
   "execution_count": 19,
   "metadata": {},
   "outputs": [],
   "source": [
    "MAX_LEN=36\n",
    "VOCAB_SIZE=12000"
   ]
  },
  {
   "cell_type": "code",
   "execution_count": null,
   "metadata": {},
   "outputs": [],
   "source": [
    "def load_data(article, summary, max_len, vocab_size):\n",
    "    tokenizer_1=Tokenizer()\n",
    "    tokenizer_1.fit_on_texts(article)\n",
    "    counts_1=dict(tokenizer_1.word_counts)\n",
    "    print(\"Counts1 : {}\".format(counts_1))\n",
    "    words_1=sorted(counts_1.items(),key=operator.itemgetter(1),reverse=True)\n",
    "    vocabWord_1=[x[0] for x in words_1][:vocab_size]\n",
    "    vocabWord_1.insert('ZERO',0)\n",
    "    vocabIdx_1=list(range(0,vocab_size))\n",
    "    artVocabulary=dict(zip(vocabWord_1,vocabIdx_1))\n",
    "    \n",
    "    #get summary vocabulary\n",
    "    tokenizer_2=Tokenizer()\n",
    "    tokenizer_2.fit_on_texts(summary)\n",
    "    counts_2=dict(tokenizer_2.word_counts)\n",
    "    words_2=sorted(counts_2.items(),key=operator.itemgetter(1),reverse=True)\n",
    "    vocabWord_2=[x[0] for x in words_2][:vocab_size]\n",
    "    vocabWord_2.insert('ZERO',0)\n",
    "    vocabIdx_2=list(range(0,vocab_size))\n",
    "    sumVocabulary=dict(zip(vocabWord_2,vocabIdx_2))\n",
    "    \n",
    "    "
   ]
  },
  {
   "cell_type": "code",
   "execution_count": null,
   "metadata": {},
   "outputs": [],
   "source": []
  },
  {
   "cell_type": "code",
   "execution_count": null,
   "metadata": {},
   "outputs": [],
   "source": []
  },
  {
   "cell_type": "code",
   "execution_count": null,
   "metadata": {},
   "outputs": [],
   "source": []
  }
 ],
 "metadata": {
  "kernelspec": {
   "display_name": "Python 3",
   "language": "python",
   "name": "python3"
  },
  "language_info": {
   "codemirror_mode": {
    "name": "ipython",
    "version": 3
   },
   "file_extension": ".py",
   "mimetype": "text/x-python",
   "name": "python",
   "nbconvert_exporter": "python",
   "pygments_lexer": "ipython3",
   "version": "3.5.2"
  }
 },
 "nbformat": 4,
 "nbformat_minor": 2
}
