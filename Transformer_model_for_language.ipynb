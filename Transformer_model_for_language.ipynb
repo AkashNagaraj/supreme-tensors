{
 "cells": [
  {
   "cell_type": "code",
   "execution_count": 5,
   "metadata": {},
   "outputs": [],
   "source": [
    "from __future__ import absolute_import, division, print_function, unicode_literals\n",
    "\n",
    "import tensorflow_datasets as tfds\n",
    "import tensorflow as tf\n",
    "\n",
    "import time\n",
    "import numpy as np\n",
    "import matplotlib.pyplot as plt\n",
    "\n",
    "import warnings\n",
    "warnings.simplefilter('ignore')"
   ]
  },
  {
   "cell_type": "code",
   "execution_count": 6,
   "metadata": {
    "scrolled": false
   },
   "outputs": [
    {
     "name": "stderr",
     "output_type": "stream",
     "text": [
      "W1001 14:42:14.409526 140333418604288 dataset_builder.py:439] Warning: Setting shuffle_files=True because split=TRAIN and shuffle_files=None. This behavior will be deprecated on 2019-08-06, at which point shuffle_files=False will be the default for all splits.\n"
     ]
    }
   ],
   "source": [
    "examples,metadata=tfds.load('ted_hrlr_translate/pt_to_en',with_info=True,as_supervised=True)\n",
    "train_examples,val_examples=examples['train'],examples['validation']"
   ]
  },
  {
   "cell_type": "code",
   "execution_count": 7,
   "metadata": {},
   "outputs": [],
   "source": [
    "tokenizer_en=tfds.features.text.SubwordTextEncoder.build_from_corpus((en.numpy() for pt,en in train_examples),\n",
    "                                                                     target_vocab_size=2**13)\n",
    "tokenizer_pt=tfds.features.text.SubwordTextEncoder.build_from_corpus((pt.numpy() for pt,en in train_examples),\n",
    "                                                                     target_vocab_size=2**13)"
   ]
  },
  {
   "cell_type": "code",
   "execution_count": 9,
   "metadata": {},
   "outputs": [
    {
     "name": "stdout",
     "output_type": "stream",
     "text": [
      "Tokeenized string is:[7915, 1248, 7946, 1369, 523, 7870, 7863, 6122, 13, 10, 17, 4119, 9, 5506, 38, 3, 168, 160]\n",
      "The original string is:Transformers' advantage is that it calculates values at the same time\n"
     ]
    }
   ],
   "source": [
    "sample_string=\"Transformers' advantage is that it calculates values at the same time\"\n",
    "\n",
    "tokenized_string=tokenizer_en.encode(sample_string)\n",
    "print(\"Tokeenized string is:{}\".format(tokenized_string))\n",
    "\n",
    "original_string=tokenizer_en.decode(tokenized_string)\n",
    "print(\"The original string is:{}\".format(original_string))\n",
    "\n",
    "assert original_string==sample_string"
   ]
  },
  {
   "cell_type": "code",
   "execution_count": 15,
   "metadata": {},
   "outputs": [
    {
     "name": "stdout",
     "output_type": "stream",
     "text": [
      "7915 -----> T\n",
      "1248 -----> ran\n",
      "7946 -----> s\n",
      "1369 -----> form\n",
      "523 -----> ers\n",
      "7870 -----> '\n",
      "7863 ----->  \n",
      "6122 -----> advantage \n",
      "13 -----> is \n",
      "10 -----> that \n",
      "17 -----> it \n",
      "4119 -----> calculate\n",
      "9 -----> s \n",
      "5506 -----> values \n",
      "38 -----> at \n",
      "3 -----> the \n",
      "168 -----> same \n",
      "160 -----> time\n"
     ]
    }
   ],
   "source": [
    "for ts in tokenized_string:\n",
    "    print('{} -----> {}'.format(ts,tokenizer_en.decode([ts])))"
   ]
  },
  {
   "cell_type": "code",
   "execution_count": 16,
   "metadata": {},
   "outputs": [],
   "source": [
    "BUFFER_SIZE=60000\n",
    "BATCH_SIZE=64"
   ]
  },
  {
   "cell_type": "code",
   "execution_count": 19,
   "metadata": {},
   "outputs": [],
   "source": [
    "def encode(lang1,lang2):\n",
    "    lang1=[tokenizer_pt.vocab_size]+tokenizer_pt.encode(lang1.numpy())+[tokenizer_pt.vocab_size+1]\n",
    "    lang1=[tokenizer_en.vocab_size]+tokenizer_en.encode(lang2.numpy())+[tokenizer_en.vocab_size+1]\n",
    "    return lang1,lang2"
   ]
  },
  {
   "cell_type": "code",
   "execution_count": 20,
   "metadata": {},
   "outputs": [],
   "source": [
    "MAX_LENGTH=40"
   ]
  },
  {
   "cell_type": "code",
   "execution_count": 21,
   "metadata": {},
   "outputs": [],
   "source": [
    "def filter_max_length(x,y,max_length=MAX_LENGTH):\n",
    "    return tf.logical_and(tf.size(x) <= max_length,\n",
    "                          tf.size(y)  <= max_length)"
   ]
  },
  {
   "cell_type": "code",
   "execution_count": 22,
   "metadata": {},
   "outputs": [],
   "source": [
    "def tf_encode(pt,en):\n",
    "    return tf.py_function(encode,[pt,en],[tf.int64,tf.int64])"
   ]
  },
  {
   "cell_type": "code",
   "execution_count": 26,
   "metadata": {},
   "outputs": [],
   "source": [
    "train_dataset=train_examples.map(tf_encode)\n",
    "train_dataset=train_dataset.filter(filter_max_length)\n",
    "#cache dataset to the memory to get speedup while readng from it\n",
    "train_dataset=train_dataset.cache()\n",
    "train_dataset=train_dataset.shuffle(BUFFER_SIZE).padded_batch(BATCH_SIZE,padded_shapes=([-1],[-1]))\n",
    "train_dataset=train_dataset.prefetch(tf.data.experimental.AUTOTUNE)\n",
    "\n",
    "val_dataset=val_examples.map(tf_encode)\n",
    "val_dataset=val_dataset.filter(filter_max_length).padded_batch(BATCH_SIZE,padded_shapes=([-1],[-1]))"
   ]
  },
  {
   "cell_type": "code",
   "execution_count": 32,
   "metadata": {},
   "outputs": [
    {
     "data": {
      "text/plain": [
       "'pt_batch, en_batch = next(iter(val_dataset))\\npt_batch, en_batch'"
      ]
     },
     "execution_count": 32,
     "metadata": {},
     "output_type": "execute_result"
    }
   ],
   "source": [
    "\"\"\"pt_batch, en_batch = next(iter(val_dataset))\n",
    "pt_batch, en_batch\"\"\""
   ]
  },
  {
   "cell_type": "code",
   "execution_count": 33,
   "metadata": {},
   "outputs": [
    {
     "ename": "AttributeError",
     "evalue": "'PaddedBatchDataset' object has no attribute 'shape'",
     "output_type": "error",
     "traceback": [
      "\u001b[0;31m---------------------------------------------------------------------------\u001b[0m",
      "\u001b[0;31mAttributeError\u001b[0m                            Traceback (most recent call last)",
      "\u001b[0;32m<ipython-input-33-71dd6ff5a4ba>\u001b[0m in \u001b[0;36m<module>\u001b[0;34m\u001b[0m\n\u001b[0;32m----> 1\u001b[0;31m \u001b[0mval_dataset\u001b[0m\u001b[0;34m.\u001b[0m\u001b[0mshape\u001b[0m\u001b[0;34m(\u001b[0m\u001b[0;34m)\u001b[0m\u001b[0;34m\u001b[0m\u001b[0m\n\u001b[0m",
      "\u001b[0;31mAttributeError\u001b[0m: 'PaddedBatchDataset' object has no attribute 'shape'"
     ]
    }
   ],
   "source": [
    "val_dataset.shape()"
   ]
  },
  {
   "cell_type": "code",
   "execution_count": null,
   "metadata": {},
   "outputs": [],
   "source": []
  }
 ],
 "metadata": {
  "kernelspec": {
   "display_name": "Python 3",
   "language": "python",
   "name": "python3"
  },
  "language_info": {
   "codemirror_mode": {
    "name": "ipython",
    "version": 3
   },
   "file_extension": ".py",
   "mimetype": "text/x-python",
   "name": "python",
   "nbconvert_exporter": "python",
   "pygments_lexer": "ipython3",
   "version": "3.5.2"
  }
 },
 "nbformat": 4,
 "nbformat_minor": 2
}
