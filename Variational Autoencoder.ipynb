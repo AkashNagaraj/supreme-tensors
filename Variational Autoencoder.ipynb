{
 "cells": [
  {
   "cell_type": "code",
   "execution_count": 1,
   "metadata": {},
   "outputs": [],
   "source": [
    "from __future__ import absolute_import,division,print_function,unicode_literals\n",
    "\n",
    "import tensorflow as tf\n",
    "\n",
    "import os\n",
    "import time\n",
    "import numpy as np\n",
    "import glob\n",
    "import matplotlib\n",
    "import PIL\n",
    "import imageio\n",
    "\n",
    "from IPython import display"
   ]
  },
  {
   "cell_type": "code",
   "execution_count": 2,
   "metadata": {},
   "outputs": [
    {
     "name": "stdout",
     "output_type": "stream",
     "text": [
      "Downloading data from https://storage.googleapis.com/tensorflow/tf-keras-datasets/mnist.npz\n",
      "11493376/11490434 [==============================] - 1s 0us/step\n"
     ]
    }
   ],
   "source": [
    "(train_images,_),(test_images,_)=tf.keras.datasets.mnist.load_data()"
   ]
  },
  {
   "cell_type": "code",
   "execution_count": 3,
   "metadata": {},
   "outputs": [],
   "source": [
    "train_images=train_images.reshape(train_images.shape[0],28,28,1).astype('float32')\n",
    "test_images=test_images.reshape(test_images.shape[0],28,28,1).astype('float32')\n",
    "\n",
    "train_images/=255\n",
    "test_images/=255\n",
    "\n",
    "train_images[train_images >= .5]=1\n",
    "train_images[train_images < .5]=0\n",
    "test_images[test_images >= .5]=1\n",
    "test_images[test_images < .5]=0"
   ]
  },
  {
   "cell_type": "code",
   "execution_count": 4,
   "metadata": {},
   "outputs": [],
   "source": [
    "TRAIN_BUF=6000\n",
    "BATCH_SIZE=100\n",
    "\n",
    "TEST_BUF=1000"
   ]
  },
  {
   "cell_type": "code",
   "execution_count": 5,
   "metadata": {},
   "outputs": [],
   "source": [
    "train_dataset=tf.data.Dataset.from_tensor_slices(train_images).shuffle(TRAIN_BUF).batch(BATCH_SIZE)\n",
    "test_dataset=tf.data.Dataset.from_tensor_slices(test_images).shuffle(TEST_BUF).batch(BATCH_SIZE)"
   ]
  },
  {
   "cell_type": "raw",
   "metadata": {},
   "source": [
    "Avoid batch normalization in VAEs since too much of stochastity resulting in instability  "
   ]
  },
  {
   "cell_type": "code",
   "execution_count": 9,
   "metadata": {},
   "outputs": [],
   "source": [
    "class CVAE(tf.keras.Model):\n",
    "    def __init__(self,latent_dim):\n",
    "        super(CVAE,self).__init__()\n",
    "        self.latent_dim=latent_dim\n",
    "        self.inference_net=tf.keras.Sequential([\n",
    "            tf.keras.layers.InputLayer(input_shape=(28,28,1)),\n",
    "            tf.keras.layers.Conv2D(filters=32,kernel_size=3,strides=(2,2),activation='relu'),\n",
    "            tf.keras.layers.Conv2D(filters=64,kernel_size=3,strides=(2,2),activation='relu'),\n",
    "            tf.keras.layers.Flatten(),\n",
    "            #no activation\n",
    "            tf.keras.layers.Dense(latent_dim+latent_dim)\n",
    "        ])\n",
    "        \n",
    "        self.generative_net=tf.keras.Sequential([\n",
    "            tf.keras.layers.InputLayer(input_shape=(latent_dim,)),\n",
    "            tf.keras.layers.Dense(units=7*7*32,activation=tf.nn.relu),\n",
    "            tf.keras.layers.Reshape(target_shape=(7,7,32)),\n",
    "            tf.keras.layers.Conv2DTranspose(\n",
    "                filters=64,\n",
    "                kernel_size=3,\n",
    "                strides=(2,2),\n",
    "                padding=\"SAME\",\n",
    "                activation='relu'),\n",
    "            tf.keras.layers.Conv2DTranspose(\n",
    "                filters=32,\n",
    "                kernel_size=3,\n",
    "                strides=(2,2),\n",
    "                padding=\"SAME\",\n",
    "                activation='relu'),\n",
    "            #no activation\n",
    "            tf.keras.layers.Conv2DTranspose(\n",
    "            filters=1,kernel_size=3,strides=(1,1),padding=\"SAME\"),            \n",
    "        ])\n",
    "        \n",
    "        @tf.function\n",
    "        def sample(self,eps=None):\n",
    "            if eps is None:\n",
    "                eps=tf.random.normal(shape=(100,self.latent_dim))\n",
    "            return self.decode(eps,apply_sigmoid=True)\n",
    "        \n",
    "        def encode(self,x):\n",
    "            mean,logvar=tf.split(self.inference_net(x),num_or_size_splits=2,axis=1)\n",
    "            return mean,logvar\n",
    "        \n",
    "        def reparameterize(self,mean,logvar):\n",
    "            eps=tf.random.normal(shape=mean.shape)\n",
    "            return eps*tf.exp(logvar*.5)+mean\n",
    "        \n",
    "        def decode(self,z,apply_sigmoid=False):\n",
    "            logits=self.generative_net(z)\n",
    "            if apply_sigmoid:\n",
    "                probs=tf.sigmoid(logits)\n",
    "                return probs\n",
    "            \n",
    "            return logits"
   ]
  },
  {
   "cell_type": "raw",
   "metadata": {},
   "source": [
    "Define the loss function and the optimizer"
   ]
  },
  {
   "cell_type": "code",
   "execution_count": null,
   "metadata": {},
   "outputs": [],
   "source": []
  },
  {
   "cell_type": "code",
   "execution_count": null,
   "metadata": {},
   "outputs": [],
   "source": []
  },
  {
   "cell_type": "code",
   "execution_count": null,
   "metadata": {},
   "outputs": [],
   "source": []
  }
 ],
 "metadata": {
  "kernelspec": {
   "display_name": "Python 3",
   "language": "python",
   "name": "python3"
  },
  "language_info": {
   "codemirror_mode": {
    "name": "ipython",
    "version": 3
   },
   "file_extension": ".py",
   "mimetype": "text/x-python",
   "name": "python",
   "nbconvert_exporter": "python",
   "pygments_lexer": "ipython3",
   "version": "3.5.2"
  }
 },
 "nbformat": 4,
 "nbformat_minor": 2
}
